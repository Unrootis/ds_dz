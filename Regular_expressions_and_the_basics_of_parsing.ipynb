{
 "cells": [
  {
   "cell_type": "markdown",
   "metadata": {},
   "source": [
    "***Задание 1***"
   ]
  },
  {
   "cell_type": "code",
   "execution_count": 2,
   "metadata": {},
   "outputs": [
    {
     "name": "stdout",
     "output_type": "stream",
     "text": [
      "Номер A222BC96 валиден. Регион: 96\n",
      "Номер A333BC777 валиден. Регион: 777\n",
      "Номер не валиден\n"
     ]
    }
   ],
   "source": [
    "import re\n",
    "\n",
    "\n",
    "def validate_auto_number(number):\n",
    "    template_rus = r'^[АВЕКМНОРСТУХ]\\d{3}[АВЕКМНОРСТУХ]{2}\\d{2,3}$'\n",
    "    template_eng = r'^[ABEKMHOPCTYX]\\d{3}[ABEKMHOPCTYX]{2}\\d{2,3}$'\n",
    "    if bool(re.match(template_rus, number)) or bool(re.match(template_eng, number)):\n",
    "        region = number[len(number) - 3: len(number)]\n",
    "        if region.isdigit():\n",
    "            print(\"Номер \" + number + \" валиден. Регион: \" + region)\n",
    "        else:\n",
    "            region = number[len(number) - 2: len(number)]\n",
    "            print(\"Номер \" + number + \" валиден. Регион: \" + region)\n",
    "    else:\n",
    "        print(\"Номер не валиден\")\n",
    "\n",
    "\n",
    "if __name__ == '__main__':\n",
    "    correct_number = 'A222BC96'\n",
    "    correct_number2 = 'A333BC777'\n",
    "    incorrect_number = 'АБ22ВВ193'\n",
    "    validate_auto_number(correct_number)\n",
    "    validate_auto_number(correct_number2)\n",
    "    validate_auto_number(incorrect_number)"
   ]
  },
  {
   "cell_type": "markdown",
   "metadata": {},
   "source": [
    "***Задание 2***"
   ]
  },
  {
   "cell_type": "code",
   "execution_count": 3,
   "metadata": {},
   "outputs": [
    {
     "name": "stdout",
     "output_type": "stream",
     "text": [
      "Напишите функцию, которая будет удалять все последовательные повторы слов из заданной строки при помощи регулярных выражений.\n"
     ]
    }
   ],
   "source": [
    "def string_without_repeats(string):\n",
    "    pattern = r'(\\w+)(\\s+\\1)+'\n",
    "    return re.sub(pattern, r'\\1', string)\n",
    "\n",
    "\n",
    "if __name__ == '__main__':\n",
    "    string = 'Напишите функцию функцию, которая будет будет будет будет удалять все все все все последовательные повторы слов из из из из заданной строки строки при помощи регулярных выражений.'\n",
    "    print(string_without_repeats(string))\n"
   ]
  },
  {
   "cell_type": "markdown",
   "metadata": {},
   "source": [
    "***Задание 3***"
   ]
  },
  {
   "cell_type": "code",
   "execution_count": 4,
   "metadata": {},
   "outputs": [
    {
     "name": "stdout",
     "output_type": "stream",
     "text": [
      "ИТ\n",
      "РВНЯПP\n"
     ]
    }
   ],
   "source": [
    "def get_acronym(string):\n",
    "    return ''.join(re.findall(r'\\b\\w', string, flags=re.IGNORECASE)).upper()\n",
    "\n",
    "if __name__ == '__main__':\n",
    "    string = 'Информационные технологии'\n",
    "    string2 = 'Регулярные выражения на языке программирования Python'\n",
    "    print(get_acronym(string))\n",
    "    print(get_acronym(string2))"
   ]
  },
  {
   "cell_type": "markdown",
   "metadata": {},
   "source": [
    "***Задание 4***"
   ]
  },
  {
   "cell_type": "code",
   "execution_count": 5,
   "metadata": {},
   "outputs": [
    {
     "name": "stdout",
     "output_type": "stream",
     "text": [
      "{'gmail.com': 2, 'test.in': 1, 'ya.ru': 2, 'mail.ru': 1}\n"
     ]
    }
   ],
   "source": [
    "if __name__ == '__main__':\n",
    "    email_dictionary = {}\n",
    "    emails = ['test@gmail.com', 'xyz@test.in', 'test@ya.ru', 'xyz@mail.ru', 'xyz@ya.ru', 'xyz@gmail.com']\n",
    "    for i in re.findall(r\"(?<=@).+?(?=')\", str(emails)):\n",
    "        email_dictionary[i] = email_dictionary.setdefault(i, 0) + 1\n",
    "    print(email_dictionary)"
   ]
  },
  {
   "cell_type": "markdown",
   "metadata": {},
   "source": [
    "***Задание 5***"
   ]
  },
  {
   "cell_type": "code",
   "execution_count": null,
   "metadata": {},
   "outputs": [],
   "source": [
    "if __name__ == '__main__':\n",
    "    string = 'Эталонной реализацией Python является интерпретатор CPython, поддерживающий большинство активно используемых платформ. Он распространяется под свободной лицензией Python Software Foundation License, позволяющей использовать его без ограничений в любых приложениях, включая проприетарные.'\n",
    "    chars = set(\"\".join(word[0].lower() for word in string.split()))\n",
    "    vowels = set(\"ауоыэяюёиеaeiouy\")\n",
    "    print('Слов на гласные буквы: {},\\nСлов на согласные буквы: {}'.format(len(chars.intersection(vowels)),\n",
    "                                            len(chars.difference(vowels))))"
   ]
  },
  {
   "cell_type": "markdown",
   "metadata": {},
   "source": [
    "***Задание 6***"
   ]
  },
  {
   "cell_type": "code",
   "execution_count": 6,
   "metadata": {},
   "outputs": [
    {
     "name": "stdout",
     "output_type": "stream",
     "text": [
      "Результат: +7-955-555-55-55\n",
      "Результат: +7-926-123-45-67\n"
     ]
    }
   ],
   "source": [
    "def validate_phone_number(number):\n",
    "    pattern = r'^((8|\\+7)[\\- ]?)?(\\(?\\d{3}\\)?[\\- ]?)?[\\d\\- ]{7,10}$'\n",
    "    if bool(re.match(pattern, number)):\n",
    "        number = re.sub('[()\\s]+', '-', number)\n",
    "        if number[0] == '8':\n",
    "            number = number.replace(number[0], '+7')\n",
    "        print('Результат: ' + number)\n",
    "    else :\n",
    "        print('Результат: Номер не валиден')\n",
    "\n",
    "if __name__ == '__main__':\n",
    "    validate_phone_number('8 955 555-55-55')\n",
    "    validate_phone_number('8(926)123-45-67')"
   ]
  },
  {
   "cell_type": "code",
   "execution_count": null,
   "metadata": {},
   "outputs": [],
   "source": []
  }
 ],
 "metadata": {
  "kernelspec": {
   "display_name": "Python 3",
   "language": "python",
   "name": "python3"
  },
  "language_info": {
   "codemirror_mode": {
    "name": "ipython",
    "version": 3
   },
   "file_extension": ".py",
   "mimetype": "text/x-python",
   "name": "python",
   "nbconvert_exporter": "python",
   "pygments_lexer": "ipython3",
   "version": "3.8.5"
  }
 },
 "nbformat": 4,
 "nbformat_minor": 4
}
