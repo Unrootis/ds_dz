{
 "cells": [
  {
   "cell_type": "markdown",
   "metadata": {},
   "source": [
    "## Задание 1"
   ]
  },
  {
   "cell_type": "code",
   "execution_count": 3,
   "metadata": {
    "scrolled": true
   },
   "outputs": [
    {
     "name": "stdout",
     "output_type": "stream",
     "text": [
      "Длина фраз одинакова\n"
     ]
    }
   ],
   "source": [
    "phrase_1 = 'kkannr'\n",
    "phrase_2 = 'eee999'\n",
    "if len (phrase_1) == len (phrase_2):\n",
    "    print ('Длина фраз одинакова')\n",
    "elif len (phrase_1) > len (phrase_2):\n",
    "    print ('Фраза 1 длиннее фразы 2')\n",
    "else: print ('Фраза 2 длиннее фразы 1')"
   ]
  },
  {
   "cell_type": "markdown",
   "metadata": {},
   "source": [
    "## Задание 2"
   ]
  },
  {
   "cell_type": "code",
   "execution_count": 1,
   "metadata": {},
   "outputs": [
    {
     "name": "stdout",
     "output_type": "stream",
     "text": [
      "Високосный год\n"
     ]
    }
   ],
   "source": [
    "year = -6560\n",
    "if (year % 4) == 0:\n",
    "    print ('Високосный год')\n",
    "else: \n",
    "    print ('Обычный год')"
   ]
  },
  {
   "cell_type": "markdown",
   "metadata": {},
   "source": [
    "## Задание 3"
   ]
  },
  {
   "cell_type": "code",
   "execution_count": 16,
   "metadata": {},
   "outputs": [
    {
     "name": "stdout",
     "output_type": "stream",
     "text": [
      "Введите дату: 1998\n",
      "Введите месяц: фрак\n",
      "Неверное значение\n"
     ]
    }
   ],
   "source": [
    "date_input = int(input('Введите дату: '))\n",
    "month_input = str(input('Введите месяц: '))\n",
    "if date_input >=1 and date_input <=20 and (month_input == 'январь' or month_input == 'января'):\n",
    "    print ('Ваш знак зодиака: Козерог')\n",
    "elif date_input >=21 and date_input <=31 and (month_input == 'январь' or month_input == 'января'):\n",
    "    print ('Ваш знак зодиака: Водолей')\n",
    "elif date_input >=1 and date_input <=19 and (month_input == 'февраль' or month_input == 'февраля'):\n",
    "    print ('Ваш знак зодиака: Водолей')\n",
    "elif date_input >=20 and date_input <=29  and (month_input == 'февраль' or month_input == 'февраля'):\n",
    "    print ('Ваш знак зодиака: Рыбы')\n",
    "elif date_input >=1 and date_input <=20  and (month_input == 'март' or month_input == 'марта'):\n",
    "    print ('Ваш знак зодиака: Рыбы')\n",
    "elif date_input >=21 and date_input <=31  and (month_input == 'март' or month_input == 'марта'):\n",
    "    print ('Ваш знак зодиака: Овен')\n",
    "elif date_input >=1 and date_input <=20  and (month_input == 'апрель' or month_input == 'апреля'):\n",
    "    print ('Ваш знак зодиака: Овен')\n",
    "elif date_input >=21 and date_input <=30  and (month_input == 'апрель' or month_input == 'апреля'):\n",
    "    print ('Ваш знак зодиака: Телец')\n",
    "elif date_input >=1 and date_input <=21  and (month_input == 'май' or month_input == 'мая'):\n",
    "    print ('Ваш знак зодиака: Телец')\n",
    "elif date_input >=22 and date_input <=31  and (month_input == 'май' or month_input == 'мая'):\n",
    "    print ('Ваш знак зодиака: Близнецы')\n",
    "elif date_input >=1 and date_input <=21  and (month_input == 'июнь' or month_input == 'июня'):\n",
    "    print ('Ваш знак зодиака: Близнецы')\n",
    "elif date_input >=22 and date_input <=30  and (month_input == 'июнь' or month_input == 'июня'):\n",
    "    print ('Ваш знак зодиака: Рак')\n",
    "elif date_input >=1 and date_input <=22  and (month_input == 'июль' or month_input == 'июля'):\n",
    "    print ('Ваш знак зодиака: Рак')\n",
    "elif date_input >=23 and date_input <=31  and (month_input == 'июль' or month_input == 'июля'):\n",
    "    print ('Ваш знак зодиака: Лев')\n",
    "elif date_input >=1 and date_input <=23  and (month_input == 'август' or month_input =='августа'):\n",
    "    print ('Ваш знак зодиака: Лев')\n",
    "elif date_input >=24 and date_input <=31  and (month_input == 'август' or month_input =='августа'):\n",
    "    print ('Ваш знак зодиака: Дева')\n",
    "elif date_input >=1 and date_input <=23  and (month_input == 'сентябрь' or month_input =='сентября'):\n",
    "    print ('Ваш знак зодиака: Дева')\n",
    "elif date_input >=24 and date_input <=30  and (month_input == 'сентябрь' or month_input =='сентября'):\n",
    "    print ('Ваш знак зодиака: Весы')\n",
    "elif date_input >=1 and date_input <=23  and (month_input == 'октябрь' or month_input =='октября'):\n",
    "    print ('Ваш знак зодиака: Весы')\n",
    "elif date_input >=24 and date_input <=31  and (month_input == 'октябрь' or month_input =='октября'):\n",
    "    print ('Ваш знак зодиака: Скорпион')\n",
    "elif date_input >=1 and date_input <=22  and (month_input == 'ноябрь' or month_input =='ноября'):\n",
    "    print ('Ваш знак зодиака: Скорпион')\n",
    "elif date_input >=23 and date_input <=30  and (month_input == 'ноябрь' or month_input =='ноября'):\n",
    "    print ('Ваш знак зодиака: Стрелец')\n",
    "elif date_input >=1 and date_input <=21  and (month_input == 'декабрь' or month_input =='декабря'):\n",
    "    print ('Ваш знак зодиака: Стрелец')\n",
    "elif date_input >=22 and date_input <=31  and (month_input == 'декабрь' or month_input =='декабря'):\n",
    "    print ('Ваш знак зодиака: Козерог')\n",
    "else:\n",
    "    print ('Неверное значение')"
   ]
  },
  {
   "cell_type": "markdown",
   "metadata": {},
   "source": [
    "## Задание 4"
   ]
  },
  {
   "cell_type": "code",
   "execution_count": 29,
   "metadata": {},
   "outputs": [
    {
     "name": "stdout",
     "output_type": "stream",
     "text": [
      "Стандартная упаковка №3\n"
     ]
    }
   ],
   "source": [
    "width = float (10)\n",
    "lenght = float (199.99)\n",
    "height = float (5)\n",
    "if width < 15 and lenght < 15 and height < 15:\n",
    "    print ('Коробка №1')\n",
    "elif lenght > 200:\n",
    "    print ('Коробка для лыж')\n",
    "elif 10<width<50 or 10<lenght<50 or 10<height<50: \n",
    "    print ('Коробка №2')\n",
    "else:\n",
    "    print ('Стандартная упаковка №3')"
   ]
  },
  {
   "cell_type": "markdown",
   "metadata": {},
   "source": [
    "## Задание 5"
   ]
  },
  {
   "cell_type": "code",
   "execution_count": 6,
   "metadata": {},
   "outputs": [
    {
     "name": "stdout",
     "output_type": "stream",
     "text": [
      "Введите целое: 558873\n",
      "Счастливый билет\n"
     ]
    }
   ],
   "source": [
    "num = int(input(\"Введите целое: \"))\n",
    "sum_456 = 0\n",
    "sum_123 = 0\n",
    "while (num >= 999):\n",
    "    sum_456 = sum_456 + num % 10\n",
    "    num = num // 10\n",
    "while (num != 0):\n",
    "    sum_123 = sum_123 + num % 10\n",
    "    num = num // 10\n",
    "if sum_123 == sum_456:\n",
    "    print ('Счастливый билет')\n",
    "else:\n",
    "    print ('Несчастливый билет')"
   ]
  }
 ],
 "metadata": {
  "kernelspec": {
   "display_name": "Python 3",
   "language": "python",
   "name": "python3"
  },
  "language_info": {
   "codemirror_mode": {
    "name": "ipython",
    "version": 3
   },
   "file_extension": ".py",
   "mimetype": "text/x-python",
   "name": "python",
   "nbconvert_exporter": "python",
   "pygments_lexer": "ipython3",
   "version": "3.8.5"
  }
 },
 "nbformat": 4,
 "nbformat_minor": 4
}
