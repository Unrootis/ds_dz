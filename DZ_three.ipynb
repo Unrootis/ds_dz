{
 "cells": [
  {
   "cell_type": "markdown",
   "metadata": {},
   "source": [
    "## Задание 1"
   ]
  },
  {
   "cell_type": "code",
   "execution_count": 29,
   "metadata": {},
   "outputs": [
    {
     "name": "stdout",
     "output_type": "stream",
     "text": [
      "t9\n"
     ]
    }
   ],
   "source": [
    "word = 'ppwwyt98898t'\n",
    "word_len = len(word)\n",
    "if word_len % 2 == 0:\n",
    "    middle_even = string[int(word_len//2-1):int(word_len//2+1)]\n",
    "    print (middle_even)\n",
    "else:\n",
    "    middle_odd = string[int(word_len//2)]\n",
    "    print (middle_odd)"
   ]
  },
  {
   "cell_type": "markdown",
   "metadata": {},
   "source": [
    "## Задание 2"
   ]
  },
  {
   "cell_type": "code",
   "execution_count": 20,
   "metadata": {},
   "outputs": [
    {
     "name": "stdout",
     "output_type": "stream",
     "text": [
      "Введите число: 15\n",
      "15.0\n",
      "Введите число: 25\n",
      "25.0\n",
      "Введите число: 36.6\n",
      "36.6\n",
      "Введите число: 0\n",
      "Результат:  76.6\n"
     ]
    }
   ],
   "source": [
    "y = 0\n",
    "x = -1000\n",
    "while x != 0:\n",
    "    x = float(input('Введите число: '))\n",
    "    y = y + x\n",
    "    if x != 0:\n",
    "        print(x)\n",
    "    else: \n",
    "        print('Результат: ', y)"
   ]
  },
  {
   "cell_type": "markdown",
   "metadata": {},
   "source": [
    "## Задание 3"
   ]
  },
  {
   "cell_type": "code",
   "execution_count": 52,
   "metadata": {},
   "outputs": [
    {
     "name": "stdout",
     "output_type": "stream",
     "text": [
      "Идеальные пары: \n",
      "Ilya и Anya\n",
      "Ivan и Lena\n",
      "Oleg и Maria\n",
      "Vlad и Olya\n"
     ]
    }
   ],
   "source": [
    "boys = ['Oleg', 'Vlad', 'Ilya', 'Ivan']\n",
    "girls = ['Olya', 'Anya', 'Lena', 'Maria']\n",
    "x = 0\n",
    "if len(boys) == len(girls): #сравниваем ключевой параметр - равность кол-ва мальчиков и девочек\n",
    "    print('Идеальные пары: ')\n",
    "    matches_all = list(zip(sorted(boys), sorted(girls))) #сразу делаем список совпадений из кортежа совпадений, состоящий из кортежей пар \n",
    "    while x != len(matches_all): #цикл, лимит перебора которого зависит от количества совпадений\n",
    "        couple_tup_x = matches_all[x] #вычленяем каждый кортеж пар из списка совпадений\n",
    "        couple_str_x = list(couple_tup_x) #преобразуем кортежи пар в списки пар\n",
    "        x += 1 #перебор пар\n",
    "        print (couple_str_x[0], 'и', couple_str_x[1]) #принтуем позиции списка\n",
    "else:\n",
    "    print('Внимание, кто-то может остаться без пары!')"
   ]
  },
  {
   "cell_type": "markdown",
   "metadata": {},
   "source": [
    "## Задание 4"
   ]
  },
  {
   "cell_type": "code",
   "execution_count": 25,
   "metadata": {},
   "outputs": [
    {
     "name": "stdout",
     "output_type": "stream",
     "text": [
      "Thailand - 80.3\n",
      "Germany - 4791.0\n",
      "Russia - 6165822583.2\n",
      "Poland - 6741.2\n",
      "Finland - -6.7\n"
     ]
    }
   ],
   "source": [
    "countries_temperature = [\n",
    "    ['Thailand', [75.2, 77, 78.8, 73.4, 888, 68, 75.2, 77]],\n",
    "    ['Germany', [57.2, 55.4, 51651, 59, 59, 53.6]],\n",
    "    ['Russia', [35.6, 37.4, 88787845184, 39.2, 41, 42.8, 39.2, 35.6]],\n",
    "    ['Poland', [50, 50, 84841, 53.6, 57.2, 55.4, 55.4]],\n",
    "    ['Finland', [15, 20, 25]]\n",
    "]\n",
    "x = 0 \n",
    "while x != len(countries_temperature): #цикл до тех пор, пока не покажет все элементы списка\n",
    "    temperature_sum = sum(countries_temperature[x][1]) #суммируем элементы списка в списке\n",
    "    temperatures_count = len(countries_temperature[x][1]) #количество температур списка в списке\n",
    "    temperature_celsium = ((temperature_sum/temperatures_count)-32)/1.8 #переводим в Цельсии результат средней температуры\n",
    "    print(countries_temperature[x][0], '-', float(\"%.1f\" % temperature_celsium)) #принтуем результат\n",
    "    x +=1 #переходим к следующему элементу списка"
   ]
  }
 ],
 "metadata": {
  "kernelspec": {
   "display_name": "Python 3",
   "language": "python",
   "name": "python3"
  },
  "language_info": {
   "codemirror_mode": {
    "name": "ipython",
    "version": 3
   },
   "file_extension": ".py",
   "mimetype": "text/x-python",
   "name": "python",
   "nbconvert_exporter": "python",
   "pygments_lexer": "ipython3",
   "version": "3.8.5"
  }
 },
 "nbformat": 4,
 "nbformat_minor": 4
}
